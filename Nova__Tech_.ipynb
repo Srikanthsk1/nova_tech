{
  "nbformat": 4,
  "nbformat_minor": 0,
  "metadata": {
    "colab": {
      "provenance": []
    },
    "kernelspec": {
      "name": "python3",
      "display_name": "Python 3"
    },
    "language_info": {
      "name": "python"
    }
  },
  "cells": [
    {
      "cell_type": "code",
      "execution_count": 8,
      "metadata": {
        "id": "HHrIxstUE5l_"
      },
      "outputs": [],
      "source": [
        "# Import necessary libraries\n",
        "import pandas as pd"
      ]
    },
    {
      "cell_type": "markdown",
      "source": [
        "This is the  piece of  code  in Python  used to import the necessary libraries to calculate the  statistics\n",
        "\n",
        "==>import pandas: This part of the statement tells Python to bring in the functionality of the Pandas library. Pandas is a powerful library for data manipulation and analysis.\n",
        "\n",
        " ==> as pd: This part of the statement assigns an alias to the imported Pandas library. Instead of typing pandas every time we want to use a Pandas function or class, we can use the"
      ],
      "metadata": {
        "id": "dxUfxcmyGrzO"
      }
    },
    {
      "cell_type": "code",
      "source": [
        "# Step 1: Load the data from CSV file\n",
        "file_path = '/content/convertcsv.csv'\n",
        "data = pd.read_csv(file_path)"
      ],
      "metadata": {
        "id": "iZmAbtWLJYfZ"
      },
      "execution_count": 9,
      "outputs": []
    },
    {
      "cell_type": "markdown",
      "source": [
        "==>The code file_path = 'sample_data.csv' and data = pd.read_csv(file_path) is responsible for loading data from a CSV (Comma-Separated Values) file using the Pandas library. Let's break down these two lines:\n",
        "\n",
        "==> file_path = 'sample_data.csv':\n",
        "\n",
        "==> This line creates a variable named file_path and assigns the string 'sample_data.csv' to it.\n",
        "This variable stores the path or filename of the CSV file containing the data you want to analyze.\n",
        "data = pd.read_csv(file_path):\n",
        "\n",
        "==> The pd.read_csv() function is a Pandas function that reads data from a CSV file and returns it as a DataFrame.\n",
        "The file_path variable, which we defined earlier, is passed as an argument to pd.read_csv(). This tells Pandas to read the CSV file specified by file_path.\n",
        "The resulting DataFrame is assigned to the variable data."
      ],
      "metadata": {
        "id": "nda4aReRKCOW"
      }
    },
    {
      "cell_type": "code",
      "source": [
        "# Step 2: Calculate basic statistics\n",
        "mean_age = data['age'].mean()\n",
        "median_age = data['age'].median()\n",
        "mean_salary = data['salary'].mean()\n",
        "median_salary = data['salary'].median()"
      ],
      "metadata": {
        "id": "ir0h6dJLK4kP"
      },
      "execution_count": 10,
      "outputs": []
    },
    {
      "cell_type": "markdown",
      "source": [
        "\n",
        "\n",
        "===>Lmean_age = data['age'].mean():\n",
        "\n",
        "==>data['age'] extracts the 'age' column from the DataFrame data.\n",
        "\n",
        "==>mean() is a Pandas method that calculates the mean (average) of the values in the specified column.\n",
        "\n",
        "==>The result is assigned to the variable mean_age, representing the mean age in the dataset.\n",
        "\n",
        "==>median_age = data['age'].median():\n",
        "\n",
        "==>Similar to the mean calculation, data['age'] extracts the 'age' column.\n",
        "\n",
        "==>.median() is a Pandas method that calculates the median (middle value) of the values in the specified column.\n",
        "\n",
        "==>The result is assigned to the variable median_age, representing the median age in the dataset.\n",
        "\n",
        "==>meansalary = data['salary'].mean():\n",
        "\n",
        "==>data['salary'] extracts the 'salary' column from the DataFrame.\n",
        "\n",
        "==>.mean() calculates the mean of the 'salary' values.\n",
        "\n",
        "==>The result is assigned to the variable mean_salary, representing the mean salary in the dataset.\n",
        "\n",
        "==>median_salary = data['salary'].median():\n",
        "\n",
        "\n",
        "==>Similar to the previous calculations, data['salary'] extracts the 'salary' column.\n",
        "\n",
        "==>median() calculates the median of the 'salary' values.\n",
        "\n",
        "==>The result is assigned to the variable median_salary, representing the median salary in the dataset.ist item\n",
        "\n",
        "\n"
      ],
      "metadata": {
        "id": "pLnR0HuwLvjE"
      }
    },
    {
      "cell_type": "code",
      "source": [
        "# Step 3: Print the results\n",
        "print(f\"Mean Age: {mean_age}\")\n",
        "print(f\"Median Age: {median_age}\")\n",
        "print(f\"Mean Salary: {mean_salary}\")\n",
        "print(f\"Median Salary: {median_salary}\")\n"
      ],
      "metadata": {
        "colab": {
          "base_uri": "https://localhost:8080/"
        },
        "id": "U2yqNJLZM4BX",
        "outputId": "9d8b3fb8-e90a-4f1c-826d-a932626d7d8f"
      },
      "execution_count": 11,
      "outputs": [
        {
          "output_type": "stream",
          "name": "stdout",
          "text": [
            "Mean Age: 29.390243902439025\n",
            "Median Age: 29.0\n",
            "Mean Salary: 59475.60975609756\n",
            "Median Salary: 59000.0\n"
          ]
        }
      ]
    },
    {
      "cell_type": "markdown",
      "source": [
        "The above the piece of the python code is used to print the mean_age ,median_age,mean_salary,median_salary"
      ],
      "metadata": {
        "id": "qJM5gIKgNBKN"
      }
    },
    {
      "cell_type": "code",
      "source": [
        "# Step 4: Save the results to a new CSV file\n",
        "result_file_path = '/content/statistics_results.csv'\n",
        "statistics_results = pd.DataFrame({\n",
        "    'Mean Age': [mean_age],\n",
        "    'Median Age': [median_age],\n",
        "    'Mean Salary': [mean_salary],\n",
        "    'Median Salary': [median_salary]\n",
        "    })\n",
        "statistics_results.to_csv(result_file_path, index=False)"
      ],
      "metadata": {
        "id": "seK6lGeMNUQu"
      },
      "execution_count": 12,
      "outputs": []
    },
    {
      "cell_type": "markdown",
      "source": [
        "result_file_path = 'statistics_results.csv':\n",
        "\n",
        "This line creates a variable named result_file_path and assigns the string 'statistics_results.csv' to it.\n",
        "This variable stores the path or filename where the results of the calculated statistics will be saved in CSV format.\n",
        "statistics_results = pd.DataFrame({...}):\n",
        "\n",
        "pd.DataFrame({...}) is used to create a new Pandas DataFrame.\n",
        "The data for the DataFrame is provided in the form of a dictionary. The keys of the dictionary represent column names, and the values are lists containing the corresponding data.\n",
        "In this case, four columns are created: 'Mean Age', 'Median Age', 'Mean Salary', and 'Median Salary'. The data in these columns comes from the calculated mean and median values stored in the variables mean_age, median_age, mean_salary, and median_salary.\n",
        "'Mean Age': [mean_age], 'Median Age': [median_age], 'Mean Salary': [mean_salary], 'Median Salary': [median_salary]:\n",
        "\n",
        "Each column in the DataFrame is associated with a list containing a single value. This value is the calculated mean or median for the corresponding statistic.\n",
        "statistics_results.to_csv(result_file_path, index=False):\n",
        "\n",
        "to_csv() is a Pandas method that writes the DataFrame to a CSV file.\n",
        "The first argument (result_file_path) is the path or filename where the CSV file will be saved.\n",
        "index=False specifies that the index column should not be included in the CSV file. The index in this case refers to the default numerical row labels that Pandas assigns to DataFrames."
      ],
      "metadata": {
        "id": "1FHAalE2N9tX"
      }
    },
    {
      "cell_type": "code",
      "source": [
        "# Step 5: Print success message\n",
        "print(f\"Statistics results saved to {result_file_path}\")"
      ],
      "metadata": {
        "colab": {
          "base_uri": "https://localhost:8080/"
        },
        "id": "9Z8vxYiHOjZ7",
        "outputId": "63341866-e121-4c95-ffd9-716408198d6a"
      },
      "execution_count": 13,
      "outputs": [
        {
          "output_type": "stream",
          "name": "stdout",
          "text": [
            "Statistics results saved to /content/statistics_results.csv\n"
          ]
        }
      ]
    },
    {
      "cell_type": "markdown",
      "source": [
        "print(f\"Statistics results saved to {result_file_path}\"):\n",
        "print() is a built-in Python function used to display messages or values to the console.\n",
        "The message to be printed is specified inside the parentheses.\n",
        "The message is a formatted string (using an f-string), which allows embedding variables or expressions inside curly braces {} within the string.\n",
        "In this case, the message is \"Statistics results saved to {result_file_path}\", and {result_file_path} is replaced with the actual value of the result_file_path variable, which contains the path or filename where the CSV file was saved."
      ],
      "metadata": {
        "id": "CScj2VvyO6ZP"
      }
    }
  ]
}